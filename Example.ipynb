{
 "cells": [
  {
   "cell_type": "code",
   "execution_count": 1,
   "id": "0e0bac08",
   "metadata": {},
   "outputs": [],
   "source": [
    "import os\n",
    "import re\n",
    "\n",
    "import pandas as pd\n",
    "\n",
    "from dataclasses import dataclass\n",
    "from tabulate import tabulate\n",
    "from huggingface_hub import (\n",
    "    login,\n",
    "    HfApi,\n",
    "    list_models,\n",
    "    hf_hub_download,\n",
    "    ModelCard,\n",
    "    ModelCardData,\n",
    "    update_repo_visibility\n",
    ")"
   ]
  },
  {
   "cell_type": "code",
   "execution_count": 2,
   "id": "db42a6b2",
   "metadata": {},
   "outputs": [
    {
     "name": "stdout",
     "output_type": "stream",
     "text": [
      "Token has not been saved to git credential helper. Pass `add_to_git_credential=True` if you want to set the git credential as well.\n",
      "Token is valid (permission: write).\n",
      "Your token has been saved to /home/stefan/.cache/huggingface/token\n",
      "Login successful\n"
     ]
    }
   ],
   "source": [
    "# Hub Login\n",
    "hf_token = os.environ.get(\"HF_TOKEN\")\n",
    "\n",
    "login(token=hf_token, add_to_git_credential=False)\n",
    "api = HfApi()"
   ]
  },
  {
   "cell_type": "code",
   "execution_count": 3,
   "id": "4e3328f4",
   "metadata": {},
   "outputs": [],
   "source": [
    "model_search_string = \"flair-co-funer-german_dbmdz_bert_base-\"\n",
    "trained_models = list(list_models(author=\"stefan-it\", search=model_search_string))"
   ]
  },
  {
   "cell_type": "code",
   "execution_count": 4,
   "id": "bc2146b2",
   "metadata": {},
   "outputs": [
    {
     "name": "stdout",
     "output_type": "stream",
     "text": [
      "stefan-it/flair-co-funer-german_dbmdz_bert_base-bs16-e10-lr3e-05-1\n",
      "stefan-it/flair-co-funer-german_dbmdz_bert_base-bs16-e10-lr5e-05-1\n",
      "stefan-it/flair-co-funer-german_dbmdz_bert_base-bs8-e10-lr3e-05-1\n",
      "stefan-it/flair-co-funer-german_dbmdz_bert_base-bs8-e10-lr5e-05-1\n",
      "stefan-it/flair-co-funer-german_dbmdz_bert_base-bs16-e10-lr3e-05-2\n",
      "stefan-it/flair-co-funer-german_dbmdz_bert_base-bs16-e10-lr5e-05-2\n",
      "stefan-it/flair-co-funer-german_dbmdz_bert_base-bs8-e10-lr3e-05-2\n",
      "stefan-it/flair-co-funer-german_dbmdz_bert_base-bs8-e10-lr5e-05-2\n",
      "stefan-it/flair-co-funer-german_dbmdz_bert_base-bs16-e10-lr3e-05-3\n",
      "stefan-it/flair-co-funer-german_dbmdz_bert_base-bs16-e10-lr5e-05-3\n",
      "stefan-it/flair-co-funer-german_dbmdz_bert_base-bs8-e10-lr3e-05-3\n",
      "stefan-it/flair-co-funer-german_dbmdz_bert_base-bs8-e10-lr5e-05-3\n",
      "stefan-it/flair-co-funer-german_dbmdz_bert_base-bs16-e10-lr3e-05-4\n",
      "stefan-it/flair-co-funer-german_dbmdz_bert_base-bs16-e10-lr5e-05-4\n",
      "stefan-it/flair-co-funer-german_dbmdz_bert_base-bs8-e10-lr3e-05-4\n",
      "stefan-it/flair-co-funer-german_dbmdz_bert_base-bs8-e10-lr5e-05-4\n",
      "stefan-it/flair-co-funer-german_dbmdz_bert_base-bs16-e10-lr3e-05-5\n",
      "stefan-it/flair-co-funer-german_dbmdz_bert_base-bs16-e10-lr5e-05-5\n",
      "stefan-it/flair-co-funer-german_dbmdz_bert_base-bs8-e10-lr3e-05-5\n",
      "stefan-it/flair-co-funer-german_dbmdz_bert_base-bs8-e10-lr5e-05-5\n"
     ]
    }
   ],
   "source": [
    "# Display model ids\n",
    "\n",
    "model_ids = [model.modelId for model in trained_models]\n",
    "print(\"\\n\".join(model_ids))"
   ]
  },
  {
   "cell_type": "code",
   "execution_count": 5,
   "id": "d7373f3c",
   "metadata": {},
   "outputs": [],
   "source": [
    "hyper_parameter_regex = re.compile(\".*(?P<batch_size>bs.*?)-(?P<epoch>e.*?)-(?P<learning_rate>lr.*?)-(?P<seed>\\d+)$\")\n",
    "\n",
    "@dataclass\n",
    "class ModelInfo:\n",
    "    model_id: str\n",
    "    dev_f1_score: float\n",
    "    batch_size: int\n",
    "    epoch: int\n",
    "    learning_rate: float\n",
    "    seed: int"
   ]
  },
  {
   "cell_type": "code",
   "execution_count": 6,
   "id": "e0b7ebba",
   "metadata": {},
   "outputs": [],
   "source": [
    "# Get best model score from training log\n",
    "def get_best_model_score(input_file: str) -> float:\n",
    "    all_dev_results = []\n",
    "    with open(input_file, \"rt\") as f_p:\n",
    "        for line in f_p:\n",
    "            line = line.rstrip()\n",
    "            if \"f1-score (micro avg)\" in line:\n",
    "                dev_result = line.split(\" \")[-1]\n",
    "                all_dev_results.append(dev_result)\n",
    "\n",
    "        return max([float(value) for value in all_dev_results])"
   ]
  },
  {
   "cell_type": "code",
   "execution_count": 7,
   "id": "80e48e43",
   "metadata": {},
   "outputs": [
    {
     "data": {
      "application/vnd.jupyter.widget-view+json": {
       "model_id": "96cd1d3eea03471ca27dd7b62ed9691d",
       "version_major": 2,
       "version_minor": 0
      },
      "text/plain": [
       "training.log:   0%|          | 0.00/26.6k [00:00<?, ?B/s]"
      ]
     },
     "metadata": {},
     "output_type": "display_data"
    },
    {
     "data": {
      "application/vnd.jupyter.widget-view+json": {
       "model_id": "90cbb80f51f542abbd314b349fb90397",
       "version_major": 2,
       "version_minor": 0
      },
      "text/plain": [
       "training.log:   0%|          | 0.00/26.7k [00:00<?, ?B/s]"
      ]
     },
     "metadata": {},
     "output_type": "display_data"
    },
    {
     "data": {
      "application/vnd.jupyter.widget-view+json": {
       "model_id": "12b42096c3f547a4ab28e5eafb09b5c5",
       "version_major": 2,
       "version_minor": 0
      },
      "text/plain": [
       "training.log:   0%|          | 0.00/23.8k [00:00<?, ?B/s]"
      ]
     },
     "metadata": {},
     "output_type": "display_data"
    },
    {
     "data": {
      "application/vnd.jupyter.widget-view+json": {
       "model_id": "b39c860919544256aec65cdd3e7b9631",
       "version_major": 2,
       "version_minor": 0
      },
      "text/plain": [
       "training.log:   0%|          | 0.00/23.7k [00:00<?, ?B/s]"
      ]
     },
     "metadata": {},
     "output_type": "display_data"
    },
    {
     "data": {
      "application/vnd.jupyter.widget-view+json": {
       "model_id": "7cc7092648094fcc822dd7ca1b91006a",
       "version_major": 2,
       "version_minor": 0
      },
      "text/plain": [
       "training.log:   0%|          | 0.00/26.6k [00:00<?, ?B/s]"
      ]
     },
     "metadata": {},
     "output_type": "display_data"
    },
    {
     "data": {
      "application/vnd.jupyter.widget-view+json": {
       "model_id": "655e3a99c6d7452594d6d5ee44ced691",
       "version_major": 2,
       "version_minor": 0
      },
      "text/plain": [
       "training.log:   0%|          | 0.00/26.6k [00:00<?, ?B/s]"
      ]
     },
     "metadata": {},
     "output_type": "display_data"
    },
    {
     "data": {
      "application/vnd.jupyter.widget-view+json": {
       "model_id": "c66f3f59427841eb8010df75d172e7df",
       "version_major": 2,
       "version_minor": 0
      },
      "text/plain": [
       "training.log:   0%|          | 0.00/23.8k [00:00<?, ?B/s]"
      ]
     },
     "metadata": {},
     "output_type": "display_data"
    },
    {
     "data": {
      "application/vnd.jupyter.widget-view+json": {
       "model_id": "af8632a03b4f4b30894952c38521f785",
       "version_major": 2,
       "version_minor": 0
      },
      "text/plain": [
       "training.log:   0%|          | 0.00/23.8k [00:00<?, ?B/s]"
      ]
     },
     "metadata": {},
     "output_type": "display_data"
    },
    {
     "data": {
      "application/vnd.jupyter.widget-view+json": {
       "model_id": "572329d5cfd74df695a7398ed933b1a8",
       "version_major": 2,
       "version_minor": 0
      },
      "text/plain": [
       "training.log:   0%|          | 0.00/26.7k [00:00<?, ?B/s]"
      ]
     },
     "metadata": {},
     "output_type": "display_data"
    },
    {
     "data": {
      "application/vnd.jupyter.widget-view+json": {
       "model_id": "98bdd11165354adc92c3649729821c99",
       "version_major": 2,
       "version_minor": 0
      },
      "text/plain": [
       "training.log:   0%|          | 0.00/26.7k [00:00<?, ?B/s]"
      ]
     },
     "metadata": {},
     "output_type": "display_data"
    },
    {
     "data": {
      "application/vnd.jupyter.widget-view+json": {
       "model_id": "874ff8f353e04ef290f7e6202474387a",
       "version_major": 2,
       "version_minor": 0
      },
      "text/plain": [
       "training.log:   0%|          | 0.00/23.7k [00:00<?, ?B/s]"
      ]
     },
     "metadata": {},
     "output_type": "display_data"
    },
    {
     "data": {
      "application/vnd.jupyter.widget-view+json": {
       "model_id": "f4de36f5095b40ec9d521849374a09b3",
       "version_major": 2,
       "version_minor": 0
      },
      "text/plain": [
       "training.log:   0%|          | 0.00/23.7k [00:00<?, ?B/s]"
      ]
     },
     "metadata": {},
     "output_type": "display_data"
    },
    {
     "data": {
      "application/vnd.jupyter.widget-view+json": {
       "model_id": "6ebab0909899427b8c2211a58ffb6e88",
       "version_major": 2,
       "version_minor": 0
      },
      "text/plain": [
       "training.log:   0%|          | 0.00/26.7k [00:00<?, ?B/s]"
      ]
     },
     "metadata": {},
     "output_type": "display_data"
    },
    {
     "data": {
      "application/vnd.jupyter.widget-view+json": {
       "model_id": "ca41eacc4171423786046efdda27ae21",
       "version_major": 2,
       "version_minor": 0
      },
      "text/plain": [
       "training.log:   0%|          | 0.00/26.5k [00:00<?, ?B/s]"
      ]
     },
     "metadata": {},
     "output_type": "display_data"
    },
    {
     "data": {
      "application/vnd.jupyter.widget-view+json": {
       "model_id": "b6222a4e7c004c1caef3275cb34c7f46",
       "version_major": 2,
       "version_minor": 0
      },
      "text/plain": [
       "training.log:   0%|          | 0.00/23.8k [00:00<?, ?B/s]"
      ]
     },
     "metadata": {},
     "output_type": "display_data"
    },
    {
     "data": {
      "application/vnd.jupyter.widget-view+json": {
       "model_id": "5d70a70cd36b4bfda6dab6dfee04e885",
       "version_major": 2,
       "version_minor": 0
      },
      "text/plain": [
       "training.log:   0%|          | 0.00/23.7k [00:00<?, ?B/s]"
      ]
     },
     "metadata": {},
     "output_type": "display_data"
    },
    {
     "data": {
      "application/vnd.jupyter.widget-view+json": {
       "model_id": "a97fb862b0804a3ab66efe247a14ec1f",
       "version_major": 2,
       "version_minor": 0
      },
      "text/plain": [
       "training.log:   0%|          | 0.00/26.7k [00:00<?, ?B/s]"
      ]
     },
     "metadata": {},
     "output_type": "display_data"
    },
    {
     "data": {
      "application/vnd.jupyter.widget-view+json": {
       "model_id": "b652fb7dd9d94699a25b5f29dafb16a7",
       "version_major": 2,
       "version_minor": 0
      },
      "text/plain": [
       "training.log:   0%|          | 0.00/26.6k [00:00<?, ?B/s]"
      ]
     },
     "metadata": {},
     "output_type": "display_data"
    },
    {
     "data": {
      "application/vnd.jupyter.widget-view+json": {
       "model_id": "cd1f00e92b7d43ef869aac99ee771728",
       "version_major": 2,
       "version_minor": 0
      },
      "text/plain": [
       "training.log:   0%|          | 0.00/23.8k [00:00<?, ?B/s]"
      ]
     },
     "metadata": {},
     "output_type": "display_data"
    },
    {
     "data": {
      "application/vnd.jupyter.widget-view+json": {
       "model_id": "02233093d68f4869b1f3d7ba0b3a593e",
       "version_major": 2,
       "version_minor": 0
      },
      "text/plain": [
       "training.log:   0%|          | 0.00/23.8k [00:00<?, ?B/s]"
      ]
     },
     "metadata": {},
     "output_type": "display_data"
    }
   ],
   "source": [
    "# Get best f1-score from Flair training log for each model\n",
    "# and construct nice ModelInfo instance\n",
    "model_infos = []\n",
    "\n",
    "hyper_params = [\"batch_size\", \"epoch\", \"learning_rate\", \"seed\"]\n",
    "\n",
    "for model_id in model_ids:\n",
    "    # Fetch Flair training log\n",
    "    training_log_file = hf_hub_download(repo_id=model_id, filename=\"training.log\")\n",
    "    dev_f1_score = get_best_model_score(training_log_file)\n",
    "    \n",
    "    matches = hyper_parameter_regex.match(model_id)\n",
    "    \n",
    "    params = [matches.group(hyper_param) for hyper_param in hyper_params]\n",
    "    model_info_args = (model_id, dev_f1_score, *params)\n",
    "\n",
    "    model_infos.append(ModelInfo(*model_info_args))"
   ]
  },
  {
   "cell_type": "code",
   "execution_count": 8,
   "id": "53c61eb7",
   "metadata": {},
   "outputs": [
    {
     "name": "stdout",
     "output_type": "stream",
     "text": [
      "[ModelInfo(model_id='stefan-it/flair-co-funer-german_dbmdz_bert_base-bs16-e10-lr3e-05-1', dev_f1_score=0.9141, batch_size='bs16', epoch='e10', learning_rate='lr3e-05', seed='1'), ModelInfo(model_id='stefan-it/flair-co-funer-german_dbmdz_bert_base-bs16-e10-lr5e-05-1', dev_f1_score=0.927, batch_size='bs16', epoch='e10', learning_rate='lr5e-05', seed='1'), ModelInfo(model_id='stefan-it/flair-co-funer-german_dbmdz_bert_base-bs8-e10-lr3e-05-1', dev_f1_score=0.9336, batch_size='bs8', epoch='e10', learning_rate='lr3e-05', seed='1'), ModelInfo(model_id='stefan-it/flair-co-funer-german_dbmdz_bert_base-bs8-e10-lr5e-05-1', dev_f1_score=0.9378, batch_size='bs8', epoch='e10', learning_rate='lr5e-05', seed='1'), ModelInfo(model_id='stefan-it/flair-co-funer-german_dbmdz_bert_base-bs16-e10-lr3e-05-2', dev_f1_score=0.9321, batch_size='bs16', epoch='e10', learning_rate='lr3e-05', seed='2'), ModelInfo(model_id='stefan-it/flair-co-funer-german_dbmdz_bert_base-bs16-e10-lr5e-05-2', dev_f1_score=0.9341, batch_size='bs16', epoch='e10', learning_rate='lr5e-05', seed='2'), ModelInfo(model_id='stefan-it/flair-co-funer-german_dbmdz_bert_base-bs8-e10-lr3e-05-2', dev_f1_score=0.9366, batch_size='bs8', epoch='e10', learning_rate='lr3e-05', seed='2'), ModelInfo(model_id='stefan-it/flair-co-funer-german_dbmdz_bert_base-bs8-e10-lr5e-05-2', dev_f1_score=0.928, batch_size='bs8', epoch='e10', learning_rate='lr5e-05', seed='2'), ModelInfo(model_id='stefan-it/flair-co-funer-german_dbmdz_bert_base-bs16-e10-lr3e-05-3', dev_f1_score=0.9175, batch_size='bs16', epoch='e10', learning_rate='lr3e-05', seed='3'), ModelInfo(model_id='stefan-it/flair-co-funer-german_dbmdz_bert_base-bs16-e10-lr5e-05-3', dev_f1_score=0.9372, batch_size='bs16', epoch='e10', learning_rate='lr5e-05', seed='3'), ModelInfo(model_id='stefan-it/flair-co-funer-german_dbmdz_bert_base-bs8-e10-lr3e-05-3', dev_f1_score=0.9299, batch_size='bs8', epoch='e10', learning_rate='lr3e-05', seed='3'), ModelInfo(model_id='stefan-it/flair-co-funer-german_dbmdz_bert_base-bs8-e10-lr5e-05-3', dev_f1_score=0.9383, batch_size='bs8', epoch='e10', learning_rate='lr5e-05', seed='3'), ModelInfo(model_id='stefan-it/flair-co-funer-german_dbmdz_bert_base-bs16-e10-lr3e-05-4', dev_f1_score=0.9391, batch_size='bs16', epoch='e10', learning_rate='lr3e-05', seed='4'), ModelInfo(model_id='stefan-it/flair-co-funer-german_dbmdz_bert_base-bs16-e10-lr5e-05-4', dev_f1_score=0.9283, batch_size='bs16', epoch='e10', learning_rate='lr5e-05', seed='4'), ModelInfo(model_id='stefan-it/flair-co-funer-german_dbmdz_bert_base-bs8-e10-lr3e-05-4', dev_f1_score=0.9417, batch_size='bs8', epoch='e10', learning_rate='lr3e-05', seed='4'), ModelInfo(model_id='stefan-it/flair-co-funer-german_dbmdz_bert_base-bs8-e10-lr5e-05-4', dev_f1_score=0.9374, batch_size='bs8', epoch='e10', learning_rate='lr5e-05', seed='4'), ModelInfo(model_id='stefan-it/flair-co-funer-german_dbmdz_bert_base-bs16-e10-lr3e-05-5', dev_f1_score=0.9177, batch_size='bs16', epoch='e10', learning_rate='lr3e-05', seed='5'), ModelInfo(model_id='stefan-it/flair-co-funer-german_dbmdz_bert_base-bs16-e10-lr5e-05-5', dev_f1_score=0.9329, batch_size='bs16', epoch='e10', learning_rate='lr5e-05', seed='5'), ModelInfo(model_id='stefan-it/flair-co-funer-german_dbmdz_bert_base-bs8-e10-lr3e-05-5', dev_f1_score=0.9281, batch_size='bs8', epoch='e10', learning_rate='lr3e-05', seed='5'), ModelInfo(model_id='stefan-it/flair-co-funer-german_dbmdz_bert_base-bs8-e10-lr5e-05-5', dev_f1_score=0.9364, batch_size='bs8', epoch='e10', learning_rate='lr5e-05', seed='5')]\n"
     ]
    }
   ],
   "source": [
    "print(model_infos)"
   ]
  },
  {
   "cell_type": "code",
   "execution_count": 9,
   "id": "a76a5884",
   "metadata": {},
   "outputs": [
    {
     "name": "stdout",
     "output_type": "stream",
     "text": [
      "{'bs16-e10-lr5e-05', 'bs16-e10-lr3e-05', 'bs8-e10-lr5e-05', 'bs8-e10-lr3e-05'}\n"
     ]
    }
   ],
   "source": [
    "# Find out all hyper-parameter configurations: (Batch Size, Epoch, Learning Rate)\n",
    "\n",
    "configurations = set([\n",
    "    f\"{model_info.batch_size}-{model_info.epoch}-{model_info.learning_rate}\" for model_info in model_infos\n",
    "])\n",
    "\n",
    "print(configurations)"
   ]
  },
  {
   "cell_type": "code",
   "execution_count": 10,
   "id": "091397ee",
   "metadata": {},
   "outputs": [],
   "source": [
    "df_data = [\n",
    "    [configuration, model_info.dev_f1_score\n",
    "    ]\n",
    "    for model_info in model_infos\n",
    "    for configuration in configurations\n",
    "    \n",
    "    if f\"{model_info.batch_size}-{model_info.epoch}-{model_info.learning_rate}\" == configuration\n",
    "]"
   ]
  },
  {
   "cell_type": "code",
   "execution_count": 11,
   "id": "37b7e29a",
   "metadata": {},
   "outputs": [
    {
     "name": "stdout",
     "output_type": "stream",
     "text": [
      "       Configuration  F1-Score\n",
      "0   bs16-e10-lr3e-05    0.9141\n",
      "1   bs16-e10-lr5e-05    0.9270\n",
      "2    bs8-e10-lr3e-05    0.9336\n",
      "3    bs8-e10-lr5e-05    0.9378\n",
      "4   bs16-e10-lr3e-05    0.9321\n",
      "5   bs16-e10-lr5e-05    0.9341\n",
      "6    bs8-e10-lr3e-05    0.9366\n",
      "7    bs8-e10-lr5e-05    0.9280\n",
      "8   bs16-e10-lr3e-05    0.9175\n",
      "9   bs16-e10-lr5e-05    0.9372\n",
      "10   bs8-e10-lr3e-05    0.9299\n",
      "11   bs8-e10-lr5e-05    0.9383\n",
      "12  bs16-e10-lr3e-05    0.9391\n",
      "13  bs16-e10-lr5e-05    0.9283\n",
      "14   bs8-e10-lr3e-05    0.9417\n",
      "15   bs8-e10-lr5e-05    0.9374\n",
      "16  bs16-e10-lr3e-05    0.9177\n",
      "17  bs16-e10-lr5e-05    0.9329\n",
      "18   bs8-e10-lr3e-05    0.9281\n",
      "19   bs8-e10-lr5e-05    0.9364\n"
     ]
    }
   ],
   "source": [
    "df = pd.DataFrame(df_data, columns=[\"Configuration\", \"F1-Score\"])\n",
    "print(df)"
   ]
  },
  {
   "cell_type": "code",
   "execution_count": 12,
   "id": "29d29cf7",
   "metadata": {},
   "outputs": [],
   "source": [
    "df = df[df.duplicated(\"Configuration\", keep=False)].groupby(\"Configuration\")[\"F1-Score\"].apply(list).reset_index()"
   ]
  },
  {
   "cell_type": "code",
   "execution_count": 13,
   "id": "0c8b77a1",
   "metadata": {},
   "outputs": [
    {
     "name": "stdout",
     "output_type": "stream",
     "text": [
      "      Configuration                                  F1-Score\n",
      "0  bs16-e10-lr3e-05  [0.9141, 0.9321, 0.9175, 0.9391, 0.9177]\n",
      "1  bs16-e10-lr5e-05   [0.927, 0.9341, 0.9372, 0.9283, 0.9329]\n",
      "2   bs8-e10-lr3e-05  [0.9336, 0.9366, 0.9299, 0.9417, 0.9281]\n",
      "3   bs8-e10-lr5e-05   [0.9378, 0.928, 0.9383, 0.9374, 0.9364]\n"
     ]
    }
   ],
   "source": [
    "print(df)"
   ]
  },
  {
   "cell_type": "code",
   "execution_count": 14,
   "id": "62bf1b17",
   "metadata": {},
   "outputs": [],
   "source": [
    "# How many seeds do we have?\n",
    "number_seeds = len(df[\"F1-Score\"].to_list()[0])\n",
    "seed_columns = [f\"Seed {index + 1}\" for index in range(number_seeds)]\n",
    "\n",
    "split = pd.DataFrame(df[\"F1-Score\"].to_list(), columns=seed_columns)"
   ]
  },
  {
   "cell_type": "code",
   "execution_count": 15,
   "id": "d1ca131c",
   "metadata": {},
   "outputs": [
    {
     "name": "stdout",
     "output_type": "stream",
     "text": [
      "   Seed 1  Seed 2  Seed 3  Seed 4  Seed 5\n",
      "0  0.9141  0.9321  0.9175  0.9391  0.9177\n",
      "1  0.9270  0.9341  0.9372  0.9283  0.9329\n",
      "2  0.9336  0.9366  0.9299  0.9417  0.9281\n",
      "3  0.9378  0.9280  0.9383  0.9374  0.9364\n"
     ]
    }
   ],
   "source": [
    "print(split)"
   ]
  },
  {
   "cell_type": "code",
   "execution_count": 16,
   "id": "1c57ca92",
   "metadata": {},
   "outputs": [
    {
     "name": "stdout",
     "output_type": "stream",
     "text": [
      "      Configuration  Seed 1  Seed 2  Seed 3  Seed 4  Seed 5  Average    Std.\n",
      "3   bs8-e10-lr5e-05  0.9378  0.9280  0.9383  0.9374  0.9364   0.9356  0.0043\n",
      "2   bs8-e10-lr3e-05  0.9336  0.9366  0.9299  0.9417  0.9281   0.9340  0.0054\n",
      "1  bs16-e10-lr5e-05  0.9270  0.9341  0.9372  0.9283  0.9329   0.9319  0.0042\n",
      "0  bs16-e10-lr3e-05  0.9141  0.9321  0.9175  0.9391  0.9177   0.9241  0.0109\n"
     ]
    }
   ],
   "source": [
    "final_df = pd.concat([df, split], axis=1)\n",
    "final_df = final_df.drop(\"F1-Score\", axis=1)\n",
    "final_df[\"Average\"] = final_df[seed_columns].mean(axis=1).round(4)\n",
    "final_df[\"Std.\"] = final_df[seed_columns].std(axis=1).round(4)\n",
    "\n",
    "final_df.sort_values(by=\"Average\", ascending=False, inplace=True)\n",
    "\n",
    "print(final_df)"
   ]
  },
  {
   "cell_type": "code",
   "execution_count": 17,
   "id": "679837a5",
   "metadata": {},
   "outputs": [
    {
     "name": "stdout",
     "output_type": "stream",
     "text": [
      "| Configuration    |   Seed 1 |   Seed 2 |   Seed 3 |   Seed 4 |   Seed 5 |   Average |   Std. |\n",
      "|:-----------------|---------:|---------:|---------:|---------:|---------:|----------:|-------:|\n",
      "| bs8-e10-lr5e-05  |   0.9378 |   0.928  |   0.9383 |   0.9374 |   0.9364 |    0.9356 | 0.0043 |\n",
      "| bs8-e10-lr3e-05  |   0.9336 |   0.9366 |   0.9299 |   0.9417 |   0.9281 |    0.934  | 0.0054 |\n",
      "| bs16-e10-lr5e-05 |   0.927  |   0.9341 |   0.9372 |   0.9283 |   0.9329 |    0.9319 | 0.0042 |\n",
      "| bs16-e10-lr3e-05 |   0.9141 |   0.9321 |   0.9175 |   0.9391 |   0.9177 |    0.9241 | 0.0109 |\n"
     ]
    }
   ],
   "source": [
    "print(final_df.to_markdown(index=False))"
   ]
  },
  {
   "cell_type": "code",
   "execution_count": 18,
   "id": "798d41e2",
   "metadata": {},
   "outputs": [
    {
     "name": "stdout",
     "output_type": "stream",
     "text": [
      "ModelInfo(model_id='stefan-it/flair-co-funer-german_dbmdz_bert_base-bs16-e10-lr3e-05-2', dev_f1_score=0.9321, batch_size='bs16', epoch='e10', learning_rate='lr3e-05', seed='2')\n",
      "\n",
      "Development Results Table:\n",
      "\n",
      "| Configuration      | Seed 1       | Seed 2           | Seed 3       | Seed 4       | Seed 5       | Average         |\n",
      "|--------------------|--------------|------------------|--------------|--------------|--------------|-----------------|\n",
      "| `bs8-e10-lr5e-05`  | [0.9378][1]  | [0.928][2]       | [0.9383][3]  | [0.9374][4]  | [0.9364][5]  | 0.9356 ± 0.0043 |\n",
      "| `bs8-e10-lr3e-05`  | [0.9336][6]  | [0.9366][7]      | [0.9299][8]  | [0.9417][9]  | [0.9281][10] | 0.934 ± 0.0054  |\n",
      "| `bs16-e10-lr5e-05` | [0.927][11]  | [0.9341][12]     | [0.9372][13] | [0.9283][14] | [0.9329][15] | 0.9319 ± 0.0042 |\n",
      "| `bs16-e10-lr3e-05` | [0.9141][16] | [**0.9321**][17] | [0.9175][18] | [0.9391][19] | [0.9177][20] | 0.9241 ± 0.0109 |\n",
      "\n",
      "[1]: https://hf.co/stefan-it/flair-co-funer-german_dbmdz_bert_base-bs8-e10-lr5e-05-1\n",
      "[2]: https://hf.co/stefan-it/flair-co-funer-german_dbmdz_bert_base-bs8-e10-lr5e-05-2\n",
      "[3]: https://hf.co/stefan-it/flair-co-funer-german_dbmdz_bert_base-bs8-e10-lr5e-05-3\n",
      "[4]: https://hf.co/stefan-it/flair-co-funer-german_dbmdz_bert_base-bs8-e10-lr5e-05-4\n",
      "[5]: https://hf.co/stefan-it/flair-co-funer-german_dbmdz_bert_base-bs8-e10-lr5e-05-5\n",
      "[6]: https://hf.co/stefan-it/flair-co-funer-german_dbmdz_bert_base-bs8-e10-lr3e-05-1\n",
      "[7]: https://hf.co/stefan-it/flair-co-funer-german_dbmdz_bert_base-bs8-e10-lr3e-05-2\n",
      "[8]: https://hf.co/stefan-it/flair-co-funer-german_dbmdz_bert_base-bs8-e10-lr3e-05-3\n",
      "[9]: https://hf.co/stefan-it/flair-co-funer-german_dbmdz_bert_base-bs8-e10-lr3e-05-4\n",
      "[10]: https://hf.co/stefan-it/flair-co-funer-german_dbmdz_bert_base-bs8-e10-lr3e-05-5\n",
      "[11]: https://hf.co/stefan-it/flair-co-funer-german_dbmdz_bert_base-bs16-e10-lr5e-05-1\n",
      "[12]: https://hf.co/stefan-it/flair-co-funer-german_dbmdz_bert_base-bs16-e10-lr5e-05-2\n",
      "[13]: https://hf.co/stefan-it/flair-co-funer-german_dbmdz_bert_base-bs16-e10-lr5e-05-3\n",
      "[14]: https://hf.co/stefan-it/flair-co-funer-german_dbmdz_bert_base-bs16-e10-lr5e-05-4\n",
      "[15]: https://hf.co/stefan-it/flair-co-funer-german_dbmdz_bert_base-bs16-e10-lr5e-05-5\n",
      "[16]: https://hf.co/stefan-it/flair-co-funer-german_dbmdz_bert_base-bs16-e10-lr3e-05-1\n",
      "[17]: https://hf.co/stefan-it/flair-co-funer-german_dbmdz_bert_base-bs16-e10-lr3e-05-2\n",
      "[18]: https://hf.co/stefan-it/flair-co-funer-german_dbmdz_bert_base-bs16-e10-lr3e-05-3\n",
      "[19]: https://hf.co/stefan-it/flair-co-funer-german_dbmdz_bert_base-bs16-e10-lr3e-05-4\n",
      "[20]: https://hf.co/stefan-it/flair-co-funer-german_dbmdz_bert_base-bs16-e10-lr3e-05-5\n"
     ]
    }
   ],
   "source": [
    "# But we need results table with nice references to actual models on the hub\n",
    "# Including highlighted F1-Score (bold) of current model\n",
    "def get_results_table(final_df, model_infos, current_model_info):\n",
    "    headers = final_df.columns.tolist()\n",
    "    \n",
    "    sorted_configurations = final_df[\"Configuration\"].tolist()\n",
    "    sorted_averages = final_df[\"Average\"].tolist()\n",
    "    sorted_stds = final_df[\"Std.\"].tolist()\n",
    "    \n",
    "    rows = []\n",
    "    \n",
    "    ref_counter = 1\n",
    "    ref_list = []\n",
    "    \n",
    "    for sorted_configuration, sorted_average, sorted_std in zip(sorted_configurations, sorted_averages, sorted_stds):\n",
    "        current_row = [f\"`{sorted_configuration}`\"]\n",
    "        \n",
    "        for model_info in model_infos:\n",
    "            if f\"{model_info.batch_size}-{model_info.epoch}-{model_info.learning_rate}\" == sorted_configuration:\n",
    "                # Model belongs to current configuration\n",
    "                # Score + Model link looks like: [0.8585][4]\n",
    "                seed_entry = f\"[{model_info.dev_f1_score}][{ref_counter}]\"\n",
    "                \n",
    "                # Special case: model is current model, so we need to bold it\n",
    "                if model_info == current_model_info:\n",
    "                    seed_entry = f\"[**{model_info.dev_f1_score}**][{ref_counter}]\"\n",
    "    \n",
    "                current_row.append(seed_entry)\n",
    "    \n",
    "                ref_list.append(f\"[{ref_counter}]: https://hf.co/{model_info.model_id}\")\n",
    "                ref_counter += 1\n",
    "    \n",
    "        current_row.append(f\"{sorted_average} ± {sorted_std}\")\n",
    "        \n",
    "        rows.append(current_row)\n",
    "    \n",
    "    #print(final_df[\"Configuration\"].tolist())\n",
    "\n",
    "    results_table = tabulate(rows, headers=headers, tablefmt=\"github\") + \"\\n\\n\" + \"\\n\".join(ref_list)\n",
    "    \n",
    "    return results_table\n",
    "    \n",
    "# Test it:\n",
    "test_results_table = get_results_table(final_df, model_infos, model_infos[4])\n",
    "print(model_infos[4])\n",
    "print(\"\\nDevelopment Results Table:\\n\")\n",
    "print(test_results_table)"
   ]
  },
  {
   "cell_type": "code",
   "execution_count": 19,
   "id": "41bd172b",
   "metadata": {},
   "outputs": [],
   "source": [
    "#base_model = \"deepset/gbert-base\"\n",
    "#base_model_short = \"GBERT Base\"\n",
    "\n",
    "base_model = \"dbmdz/bert-base-german-cased\"\n",
    "base_model_short = \"German DBMDZ BERT\"\n",
    "\n",
    "# Determine them automatically\n",
    "batch_sizes = set([\n",
    "    model_info.batch_size.replace(\"bs\", \"\") for model_info in model_infos\n",
    "])\n",
    "\n",
    "learning_rates = set([\n",
    "    model_info.learning_rate.replace(\"lr\", \"\") for model_info in model_infos\n",
    "])\n",
    "\n",
    "widget_text = \"\"\"\n",
    "Wesentliche Tätigkeiten der Compliance-Funktion wurden an die Mercurtainment AG , Düsseldorf , ausgelagert .\n",
    "\"\"\""
   ]
  },
  {
   "cell_type": "code",
   "execution_count": 20,
   "id": "19d0f6eb",
   "metadata": {},
   "outputs": [
    {
     "name": "stdout",
     "output_type": "stream",
     "text": [
      "https://huggingface.co/stefan-it/flair-co-funer-german_dbmdz_bert_base-bs16-e10-lr3e-05-1/blob/refs%2Fpr%2F1/README.md\n",
      "\n",
      "https://huggingface.co/stefan-it/flair-co-funer-german_dbmdz_bert_base-bs16-e10-lr5e-05-1/blob/refs%2Fpr%2F1/README.md\n",
      "\n",
      "https://huggingface.co/stefan-it/flair-co-funer-german_dbmdz_bert_base-bs8-e10-lr3e-05-1/blob/refs%2Fpr%2F1/README.md\n",
      "\n",
      "https://huggingface.co/stefan-it/flair-co-funer-german_dbmdz_bert_base-bs8-e10-lr5e-05-1/blob/refs%2Fpr%2F1/README.md\n",
      "\n",
      "https://huggingface.co/stefan-it/flair-co-funer-german_dbmdz_bert_base-bs16-e10-lr3e-05-2/blob/refs%2Fpr%2F1/README.md\n",
      "\n",
      "https://huggingface.co/stefan-it/flair-co-funer-german_dbmdz_bert_base-bs16-e10-lr5e-05-2/blob/refs%2Fpr%2F1/README.md\n",
      "\n",
      "https://huggingface.co/stefan-it/flair-co-funer-german_dbmdz_bert_base-bs8-e10-lr3e-05-2/blob/refs%2Fpr%2F1/README.md\n",
      "\n",
      "https://huggingface.co/stefan-it/flair-co-funer-german_dbmdz_bert_base-bs8-e10-lr5e-05-2/blob/refs%2Fpr%2F1/README.md\n",
      "\n",
      "https://huggingface.co/stefan-it/flair-co-funer-german_dbmdz_bert_base-bs16-e10-lr3e-05-3/blob/refs%2Fpr%2F1/README.md\n",
      "\n",
      "https://huggingface.co/stefan-it/flair-co-funer-german_dbmdz_bert_base-bs16-e10-lr5e-05-3/blob/refs%2Fpr%2F1/README.md\n",
      "\n",
      "https://huggingface.co/stefan-it/flair-co-funer-german_dbmdz_bert_base-bs8-e10-lr3e-05-3/blob/refs%2Fpr%2F1/README.md\n",
      "\n",
      "https://huggingface.co/stefan-it/flair-co-funer-german_dbmdz_bert_base-bs8-e10-lr5e-05-3/blob/refs%2Fpr%2F1/README.md\n",
      "\n",
      "https://huggingface.co/stefan-it/flair-co-funer-german_dbmdz_bert_base-bs16-e10-lr3e-05-4/blob/refs%2Fpr%2F1/README.md\n",
      "\n",
      "https://huggingface.co/stefan-it/flair-co-funer-german_dbmdz_bert_base-bs16-e10-lr5e-05-4/blob/refs%2Fpr%2F1/README.md\n",
      "\n",
      "https://huggingface.co/stefan-it/flair-co-funer-german_dbmdz_bert_base-bs8-e10-lr3e-05-4/blob/refs%2Fpr%2F1/README.md\n",
      "\n",
      "https://huggingface.co/stefan-it/flair-co-funer-german_dbmdz_bert_base-bs8-e10-lr5e-05-4/blob/refs%2Fpr%2F1/README.md\n",
      "\n",
      "https://huggingface.co/stefan-it/flair-co-funer-german_dbmdz_bert_base-bs16-e10-lr3e-05-5/blob/refs%2Fpr%2F1/README.md\n",
      "\n",
      "https://huggingface.co/stefan-it/flair-co-funer-german_dbmdz_bert_base-bs16-e10-lr5e-05-5/blob/refs%2Fpr%2F1/README.md\n",
      "\n",
      "https://huggingface.co/stefan-it/flair-co-funer-german_dbmdz_bert_base-bs8-e10-lr3e-05-5/blob/refs%2Fpr%2F1/README.md\n",
      "\n",
      "https://huggingface.co/stefan-it/flair-co-funer-german_dbmdz_bert_base-bs8-e10-lr5e-05-5/blob/refs%2Fpr%2F1/README.md\n",
      "\n"
     ]
    }
   ],
   "source": [
    "# Now let's create model cards for all fine-tuned models 🤗\n",
    "# Use this to create follow-up PRs when modifications are made in model card template!\n",
    "\n",
    "commit_message = \"readme: add initial version of model card\"\n",
    "commit_description = \"Hey,\\n\\nthis PR adds the initial version of model card.\"\n",
    "create_pr = True\n",
    "\n",
    "for model in model_infos:\n",
    "    current_results_table = get_results_table(final_df, model_infos, model)\n",
    "    card_data = ModelCardData()\n",
    "    card = ModelCard.from_template(card_data, template_path=\"model_card_template.md\",\n",
    "                                   base_model=base_model,\n",
    "                                   base_model_short=base_model_short,\n",
    "                                   batch_sizes=f'[{\", \".join([f\"`{bs}`\" for bs in batch_sizes ])}]',\n",
    "                                   learning_rates=f'[{\", \".join([f\"`{lr}`\" for lr in learning_rates ])}]',\n",
    "                                   results=current_results_table,\n",
    "                                   widget_text=widget_text.strip()\n",
    "                                  )\n",
    "\n",
    "    commit_url = card.push_to_hub(repo_id=model.model_id,\n",
    "                                  create_pr=create_pr,\n",
    "                                  commit_message=commit_message,\n",
    "                                  commit_description=commit_description)\n",
    "    \n",
    "    print(commit_url + \"\\n\")"
   ]
  },
  {
   "cell_type": "code",
   "execution_count": 21,
   "id": "a87b2c5f",
   "metadata": {},
   "outputs": [
    {
     "name": "stdout",
     "output_type": "stream",
     "text": [
      "---\n",
      "language: de\n",
      "license: mit\n",
      "tags:\n",
      "- flair\n",
      "- token-classification\n",
      "- sequence-tagger-model\n",
      "- hetzner\n",
      "- hetzner-gex44\n",
      "- hetzner-gpu\n",
      "base_model: dbmdz/bert-base-german-cased\n",
      "widget:\n",
      "- text: Wesentliche Tätigkeiten der Compliance-Funktion wurden an die Mercurtainment\n",
      "    AG , Düsseldorf , ausgelagert .\n",
      "---\n",
      "\n",
      "# Fine-tuned Flair Model on CO-Fun NER Dataset\n",
      "\n",
      "This Flair model was fine-tuned on the\n",
      "[CO-Fun](https://arxiv.org/abs/2403.15322) NER Dataset using German DBMDZ BERT as backbone LM.\n",
      "\n",
      "## Dataset\n",
      "\n",
      "The [Company Outsourcing in Fund Prospectuses (CO-Fun) dataset](https://arxiv.org/abs/2403.15322) consists of\n",
      "948 sentences with 5,969 named entity annotations, including 2,340 Outsourced Services, 2,024 Companies, 1,594 Locations\n",
      "and 11 Software annotations.\n",
      "\n",
      "Overall, the following named entities are annotated:\n",
      "\n",
      "* `Auslagerung` (engl. outsourcing)\n",
      "* `Unternehmen` (engl. company)\n",
      "* `Ort` (engl. location)\n",
      "* `Software`\n",
      "\n",
      "## Fine-Tuning\n",
      "\n",
      "The latest [Flair version](https://github.com/flairNLP/flair/tree/42ea3f6854eba04387c38045f160c18bdaac07dc) is used for\n",
      "fine-tuning.\n",
      "\n",
      "A hyper-parameter search over the following parameters with 5 different seeds per configuration is performed:\n",
      "\n",
      "* Batch Sizes: [`16`, `8`]\n",
      "* Learning Rates: [`3e-05`, `5e-05`]\n",
      "\n",
      "More details can be found in this [repository](https://github.com/stefan-it/co-funer). All models are fine-tuned on a\n",
      "[Hetzner GX44](https://www.hetzner.com/dedicated-rootserver/matrix-gpu/) with an NVIDIA RTX 4000.\n",
      "\n",
      "## Results\n",
      "\n",
      "A hyper-parameter search with 5 different seeds per configuration is performed and micro F1-score on development set\n",
      "is reported:\n",
      "\n",
      "| Configuration      | Seed 1       | Seed 2       | Seed 3       | Seed 4       | Seed 5          | Average         |\n",
      "|--------------------|--------------|--------------|--------------|--------------|-----------------|-----------------|\n",
      "| `bs8-e10-lr5e-05`  | [0.9378][1]  | [0.928][2]   | [0.9383][3]  | [0.9374][4]  | [**0.9364**][5] | 0.9356 ± 0.0043 |\n",
      "| `bs8-e10-lr3e-05`  | [0.9336][6]  | [0.9366][7]  | [0.9299][8]  | [0.9417][9]  | [0.9281][10]    | 0.934 ± 0.0054  |\n",
      "| `bs16-e10-lr5e-05` | [0.927][11]  | [0.9341][12] | [0.9372][13] | [0.9283][14] | [0.9329][15]    | 0.9319 ± 0.0042 |\n",
      "| `bs16-e10-lr3e-05` | [0.9141][16] | [0.9321][17] | [0.9175][18] | [0.9391][19] | [0.9177][20]    | 0.9241 ± 0.0109 |\n",
      "\n",
      "[1]: https://hf.co/stefan-it/flair-co-funer-german_dbmdz_bert_base-bs8-e10-lr5e-05-1\n",
      "[2]: https://hf.co/stefan-it/flair-co-funer-german_dbmdz_bert_base-bs8-e10-lr5e-05-2\n",
      "[3]: https://hf.co/stefan-it/flair-co-funer-german_dbmdz_bert_base-bs8-e10-lr5e-05-3\n",
      "[4]: https://hf.co/stefan-it/flair-co-funer-german_dbmdz_bert_base-bs8-e10-lr5e-05-4\n",
      "[5]: https://hf.co/stefan-it/flair-co-funer-german_dbmdz_bert_base-bs8-e10-lr5e-05-5\n",
      "[6]: https://hf.co/stefan-it/flair-co-funer-german_dbmdz_bert_base-bs8-e10-lr3e-05-1\n",
      "[7]: https://hf.co/stefan-it/flair-co-funer-german_dbmdz_bert_base-bs8-e10-lr3e-05-2\n",
      "[8]: https://hf.co/stefan-it/flair-co-funer-german_dbmdz_bert_base-bs8-e10-lr3e-05-3\n",
      "[9]: https://hf.co/stefan-it/flair-co-funer-german_dbmdz_bert_base-bs8-e10-lr3e-05-4\n",
      "[10]: https://hf.co/stefan-it/flair-co-funer-german_dbmdz_bert_base-bs8-e10-lr3e-05-5\n",
      "[11]: https://hf.co/stefan-it/flair-co-funer-german_dbmdz_bert_base-bs16-e10-lr5e-05-1\n",
      "[12]: https://hf.co/stefan-it/flair-co-funer-german_dbmdz_bert_base-bs16-e10-lr5e-05-2\n",
      "[13]: https://hf.co/stefan-it/flair-co-funer-german_dbmdz_bert_base-bs16-e10-lr5e-05-3\n",
      "[14]: https://hf.co/stefan-it/flair-co-funer-german_dbmdz_bert_base-bs16-e10-lr5e-05-4\n",
      "[15]: https://hf.co/stefan-it/flair-co-funer-german_dbmdz_bert_base-bs16-e10-lr5e-05-5\n",
      "[16]: https://hf.co/stefan-it/flair-co-funer-german_dbmdz_bert_base-bs16-e10-lr3e-05-1\n",
      "[17]: https://hf.co/stefan-it/flair-co-funer-german_dbmdz_bert_base-bs16-e10-lr3e-05-2\n",
      "[18]: https://hf.co/stefan-it/flair-co-funer-german_dbmdz_bert_base-bs16-e10-lr3e-05-3\n",
      "[19]: https://hf.co/stefan-it/flair-co-funer-german_dbmdz_bert_base-bs16-e10-lr3e-05-4\n",
      "[20]: https://hf.co/stefan-it/flair-co-funer-german_dbmdz_bert_base-bs16-e10-lr3e-05-5\n",
      "\n",
      "The result in bold shows the performance of the current viewed model.\n",
      "\n",
      "Additionally, the Flair [training log](training.log) and [TensorBoard logs](../../tensorboard) are also uploaded to the model\n",
      "hub.\n"
     ]
    }
   ],
   "source": [
    "# Get preview of last created model hub card\n",
    "print(card)"
   ]
  },
  {
   "cell_type": "code",
   "execution_count": 22,
   "id": "a405c1d5",
   "metadata": {},
   "outputs": [
    {
     "name": "stdout",
     "output_type": "stream",
     "text": [
      "Update visibility to True for repo https://hf.co/stefan-it/flair-co-funer-german_dbmdz_bert_base-bs16-e10-lr3e-05-1\n",
      "Update visibility to True for repo https://hf.co/stefan-it/flair-co-funer-german_dbmdz_bert_base-bs16-e10-lr5e-05-1\n",
      "Update visibility to True for repo https://hf.co/stefan-it/flair-co-funer-german_dbmdz_bert_base-bs8-e10-lr3e-05-1\n",
      "Update visibility to True for repo https://hf.co/stefan-it/flair-co-funer-german_dbmdz_bert_base-bs8-e10-lr5e-05-1\n",
      "Update visibility to True for repo https://hf.co/stefan-it/flair-co-funer-german_dbmdz_bert_base-bs16-e10-lr3e-05-2\n",
      "Update visibility to True for repo https://hf.co/stefan-it/flair-co-funer-german_dbmdz_bert_base-bs16-e10-lr5e-05-2\n",
      "Update visibility to True for repo https://hf.co/stefan-it/flair-co-funer-german_dbmdz_bert_base-bs8-e10-lr3e-05-2\n",
      "Update visibility to True for repo https://hf.co/stefan-it/flair-co-funer-german_dbmdz_bert_base-bs8-e10-lr5e-05-2\n",
      "Update visibility to True for repo https://hf.co/stefan-it/flair-co-funer-german_dbmdz_bert_base-bs16-e10-lr3e-05-3\n",
      "Update visibility to True for repo https://hf.co/stefan-it/flair-co-funer-german_dbmdz_bert_base-bs16-e10-lr5e-05-3\n",
      "Update visibility to True for repo https://hf.co/stefan-it/flair-co-funer-german_dbmdz_bert_base-bs8-e10-lr3e-05-3\n",
      "Update visibility to True for repo https://hf.co/stefan-it/flair-co-funer-german_dbmdz_bert_base-bs8-e10-lr5e-05-3\n",
      "Update visibility to True for repo https://hf.co/stefan-it/flair-co-funer-german_dbmdz_bert_base-bs16-e10-lr3e-05-4\n",
      "Update visibility to True for repo https://hf.co/stefan-it/flair-co-funer-german_dbmdz_bert_base-bs16-e10-lr5e-05-4\n",
      "Update visibility to True for repo https://hf.co/stefan-it/flair-co-funer-german_dbmdz_bert_base-bs8-e10-lr3e-05-4\n",
      "Update visibility to True for repo https://hf.co/stefan-it/flair-co-funer-german_dbmdz_bert_base-bs8-e10-lr5e-05-4\n",
      "Update visibility to True for repo https://hf.co/stefan-it/flair-co-funer-german_dbmdz_bert_base-bs16-e10-lr3e-05-5\n",
      "Update visibility to True for repo https://hf.co/stefan-it/flair-co-funer-german_dbmdz_bert_base-bs16-e10-lr5e-05-5\n",
      "Update visibility to True for repo https://hf.co/stefan-it/flair-co-funer-german_dbmdz_bert_base-bs8-e10-lr3e-05-5\n",
      "Update visibility to True for repo https://hf.co/stefan-it/flair-co-funer-german_dbmdz_bert_base-bs8-e10-lr5e-05-5\n"
     ]
    }
   ],
   "source": [
    "# Now make repositories publicly visible\n",
    "for model in model_infos:\n",
    "    print(f\"Update visibility to True for repo https://hf.co/{model.model_id}\")\n",
    "    update_repo_visibility(repo_id=model.model_id, private=False)"
   ]
  }
 ],
 "metadata": {
  "kernelspec": {
   "display_name": "Python 3 (ipykernel)",
   "language": "python",
   "name": "python3"
  },
  "language_info": {
   "codemirror_mode": {
    "name": "ipython",
    "version": 3
   },
   "file_extension": ".py",
   "mimetype": "text/x-python",
   "name": "python",
   "nbconvert_exporter": "python",
   "pygments_lexer": "ipython3",
   "version": "3.11.6"
  }
 },
 "nbformat": 4,
 "nbformat_minor": 5
}
